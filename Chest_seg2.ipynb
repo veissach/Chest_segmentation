{
  "nbformat": 4,
  "nbformat_minor": 0,
  "metadata": {
    "colab": {
      "name": "Chest_seg2.ipynb",
      "provenance": [],
      "collapsed_sections": [],
      "machine_shape": "hm"
    },
    "kernelspec": {
      "name": "python3",
      "display_name": "Python 3"
    }
  },
  "cells": [
    {
      "cell_type": "code",
      "metadata": {
        "id": "_Vn3QrVhmbKC",
        "colab_type": "code",
        "colab": {
          "base_uri": "https://localhost:8080/",
          "height": 34
        },
        "outputId": "c24cb3b7-d691-434d-f817-78f1b7f44483"
      },
      "source": [
        "!pip install -q pydicom"
      ],
      "execution_count": null,
      "outputs": [
        {
          "output_type": "stream",
          "text": [
            "\u001b[K     |████████████████████████████████| 35.5MB 101kB/s \n",
            "\u001b[?25h"
          ],
          "name": "stdout"
        }
      ]
    },
    {
      "cell_type": "code",
      "metadata": {
        "id": "X4slMg85nKsG",
        "colab_type": "code",
        "colab": {
          "base_uri": "https://localhost:8080/",
          "height": 122
        },
        "outputId": "68e72e2a-11bf-4688-c123-82283e110ad4"
      },
      "source": [
        "%matplotlib inline\n",
        "import numpy as np \n",
        "import pandas as pd \n",
        "import pydicom\n",
        "import os\n",
        "import scipy.ndimage\n",
        "import matplotlib.pyplot as plt\n",
        "\n",
        "from skimage import measure, morphology\n",
        "from mpl_toolkits.mplot3d.art3d import Poly3DCollection\n",
        "from google.colab import drive\n",
        "\n",
        "drive.mount ('/content/drive')\n",
        "\n",
        "INPUT_FOLDER = '/content/drive/My Drive/chest CT/'\n",
        "patients = os.listdir(INPUT_FOLDER)\n",
        "patients.sort()"
      ],
      "execution_count": null,
      "outputs": [
        {
          "output_type": "stream",
          "text": [
            "Go to this URL in a browser: https://accounts.google.com/o/oauth2/auth?client_id=947318989803-6bn6qk8qdgf4n4g3pfee6491hc0brc4i.apps.googleusercontent.com&redirect_uri=urn%3aietf%3awg%3aoauth%3a2.0%3aoob&response_type=code&scope=email%20https%3a%2f%2fwww.googleapis.com%2fauth%2fdocs.test%20https%3a%2f%2fwww.googleapis.com%2fauth%2fdrive%20https%3a%2f%2fwww.googleapis.com%2fauth%2fdrive.photos.readonly%20https%3a%2f%2fwww.googleapis.com%2fauth%2fpeopleapi.readonly\n",
            "\n",
            "Enter your authorization code:\n",
            "··········\n",
            "Mounted at /content/drive\n"
          ],
          "name": "stdout"
        }
      ]
    },
    {
      "cell_type": "code",
      "metadata": {
        "id": "Avj3Urc1nOaj",
        "colab_type": "code",
        "colab": {}
      },
      "source": [
        "def load_scan(path):\n",
        "    slices = [pydicom.dcmread(path + '/' + s) for s in os.listdir(path)]\n",
        "    slices.sort(key = lambda x: float(x.ImagePositionPatient[2]))\n",
        "    try:\n",
        "        slice_thickness = np.abs(slices[0].ImagePositionPatient[2] - slices[1].ImagePositionPatient[2])\n",
        "    except:\n",
        "        slice_thickness = np.abs(slices[0].SliceLocation - slices[1].SliceLocation)\n",
        "        \n",
        "    for s in slices:\n",
        "        s.SliceThickness = slice_thickness\n",
        "        \n",
        "    return slices\n",
        "\n"
      ],
      "execution_count": null,
      "outputs": []
    },
    {
      "cell_type": "code",
      "metadata": {
        "id": "pZkSbLhSndoH",
        "colab_type": "code",
        "colab": {
          "base_uri": "https://localhost:8080/",
          "height": 290
        },
        "outputId": "f03b8655-ad4d-4e2c-dad3-5fcd7e403c40"
      },
      "source": [
        "def get_pixels_hu(slices):\n",
        "    image = np.stack([s.pixel_array for s in slices])\n",
        "    image = image.astype(np.int16)\n",
        "\n",
        "    image[image == -2000] = 0\n",
        "    \n",
        "    # Convert to Hounsfield units (HU)\n",
        "    for slice_number in range(len(slices)):\n",
        "        \n",
        "        intercept = slices[slice_number].RescaleIntercept\n",
        "        slope = slices[slice_number].RescaleSlope\n",
        "        \n",
        "        if slope != 1:\n",
        "            image[slice_number] = slope * image[slice_number].astype(np.float64)\n",
        "            image[slice_number] = image[slice_number].astype(np.int16)\n",
        "            \n",
        "        image[slice_number] += np.int16(intercept)\n",
        "    \n",
        "    return np.array(image, dtype=np.int16)\n",
        "\n",
        "first_patient = load_scan(INPUT_FOLDER + patients[0])\n",
        "first_patient_pixels = get_pixels_hu(first_patient)\n",
        "plt.hist(first_patient_pixels.flatten(), bins=48, color='c')\n",
        "plt.xlabel(\"Hounsfield Units (HU)\")\n",
        "plt.ylabel(\"Frequency\")\n",
        "plt.show()\n",
        "\n"
      ],
      "execution_count": null,
      "outputs": [
        {
          "output_type": "display_data",
          "data": {
            "image/png": "[encoded data removed]",
            "text/plain": [
              "<Figure size 432x288 with 1 Axes>"
            ]
          },
          "metadata": {
            "tags": [],
            "needs_background": "light"
          }
        }
      ]
    },
    {
      "cell_type": "code",
      "metadata": {
        "id": "aVOdq_wJngCL",
        "colab_type": "code",
        "colab": {}
      },
      "source": [
        "def resample(image, scan, new_spacing=[1,1,1]):\n",
        "    spacing = np.array([scan[0].SliceThickness] + list(scan[0].PixelSpacing), dtype=np.float32)\n",
        "\n",
        "    resize_factor = spacing / new_spacing\n",
        "    new_real_shape = image.shape * resize_factor\n",
        "    new_shape = np.round(new_real_shape)\n",
        "    real_resize_factor = new_shape / image.shape\n",
        "    new_spacing = spacing / real_resize_factor\n",
        "    \n",
        "    image = scipy.ndimage.interpolation.zoom(image, real_resize_factor, mode='nearest')\n",
        "    \n",
        "    return image, new_spacing\n",
        "\n",
        "pix_resampled, spacing = resample(first_patient_pixels, first_patient, [1,1,1])    \n",
        "\n"
      ],
      "execution_count": null,
      "outputs": []
    },
    {
      "cell_type": "code",
      "metadata": {
        "id": "9wt1Z2G5niXF",
        "colab_type": "code",
        "colab": {}
      },
      "source": [
        "def plot_3d(image, elevation, LL, UL, threshold=-300):\n",
        "  for rotate in range(LL, UL):\n",
        "    # Position the scan upright, \n",
        "    # so the head of the patient would be at the top facing the camera\n",
        "      p = image.transpose(2,1,0)\n",
        "    \n",
        "      verts, faces, normals, values = measure.marching_cubes_lewiner(p, threshold)\n",
        "\n",
        "      fig = plt.figure(figsize=(10, 8), dpi=2400)\n",
        "      ax = fig.add_subplot(111, projection='3d')\n",
        "\n",
        "    # verts[faces] to generate a collection of triangles\n",
        "      mesh = Poly3DCollection(verts[faces], alpha=0.70)\n",
        "      face_color = [0.45, 0.45, 0.75]\n",
        "      mesh.set_facecolor(face_color)\n",
        "      ax.add_collection3d(mesh)\n",
        "\n",
        "      ax.set_xlim(0, p.shape[0])\n",
        "      ax.set_ylim(0, p.shape[1])\n",
        "      ax.set_zlim(0, p.shape[2])\n",
        "      plt.axis('off')\n",
        "      plt.grid(b=None)\n",
        "      ax.view_init(elevation, rotate)\n",
        "      images_dir = '/content/drive/My Drive/Images/sub-3/'\n",
        "      fig.savefig(f\"{images_dir}subject-3-({rotate}).jpg\", Transparent = True)\n",
        "\n",
        "      plt.show(fig)\n",
        "\n",
        "def largest_label_volume(im, bg=-1):\n",
        "    vals, counts = np.unique(im, return_counts=True)\n",
        "\n",
        "    counts = counts[vals != bg]\n",
        "    vals = vals[vals != bg]\n",
        "\n",
        "    if len(counts) > 0:\n",
        "        return vals[np.argmax(counts)]\n",
        "    else:\n",
        "        return None\n",
        "\n",
        "def segment_lung_mask(image, fill_lung_structures=True):\n",
        "    \n",
        "    binary_image = np.array(image > -320, dtype=np.int8)+1\n",
        "    labels = measure.label(binary_image)\n",
        "    \n",
        "    background_label = labels[0,0,0]\n",
        "    \n",
        "    binary_image[background_label == labels] = 2\n",
        "    \n",
        "    if fill_lung_structures:\n",
        "        # For every slice we determine the largest solid structure\n",
        "        for i, axial_slice in enumerate(binary_image):\n",
        "            axial_slice = axial_slice - 1\n",
        "            labeling = measure.label(axial_slice)\n",
        "            l_max = largest_label_volume(labeling, bg=0)\n",
        "            \n",
        "            if l_max is not None: #This slice contains some lung\n",
        "                binary_image[i][labeling != l_max] = 1\n",
        "\n",
        "    \n",
        "    binary_image -= 1 #Make the image actual binary\n",
        "    binary_image = 1-binary_image # Invert it, lungs are now 1\n",
        "    \n",
        "    # Remove other air pockets insided body\n",
        "    labels = measure.label(binary_image, background=0)\n",
        "    l_max = largest_label_volume(labels, bg=0)\n",
        "    if l_max is not None: # There are air pockets\n",
        "        binary_image[labels != l_max] = 0\n",
        " \n",
        "    return binary_image\n",
        "\n",
        "      "
      ],
      "execution_count": null,
      "outputs": []
    },
    {
      "cell_type": "code",
      "metadata": {
        "id": "_Qih8l4XnkXh",
        "colab_type": "code",
        "colab": {}
      },
      "source": [
        "segmented_lungs = segment_lung_mask(pix_resampled, False)\n",
        "segmented_lungs_fill = segment_lung_mask(pix_resampled, True)    "
      ],
      "execution_count": null,
      "outputs": []
    },
    {
      "cell_type": "code",
      "metadata": {
        "id": "A2koJ1SHnnIe",
        "colab_type": "code",
        "colab": {}
      },
      "source": [
        "plot_3d(segmented_lungs, 0, 105, 361, 0)"
      ],
      "execution_count": null,
      "outputs": []
    }
  ]
}